{
  "nbformat": 4,
  "nbformat_minor": 0,
  "metadata": {
    "colab": {
      "provenance": [],
      "authorship_tag": "ABX9TyO9OWaG16n37AnRdYl5bfgp",
      "include_colab_link": true
    },
    "kernelspec": {
      "name": "python3",
      "display_name": "Python 3"
    },
    "language_info": {
      "name": "python"
    }
  },
  "cells": [
    {
      "cell_type": "markdown",
      "metadata": {
        "id": "view-in-github",
        "colab_type": "text"
      },
      "source": [
        "<a href=\"https://colab.research.google.com/github/raihanewubd/24FALL-AI/blob/main/EffectsOfCR.ipynb\" target=\"_parent\"><img src=\"https://colab.research.google.com/assets/colab-badge.svg\" alt=\"Open In Colab\"/></a>"
      ]
    },
    {
      "cell_type": "code",
      "execution_count": 5,
      "metadata": {
        "colab": {
          "base_uri": "https://localhost:8080/"
        },
        "id": "mFbpbz9tpCw-",
        "outputId": "bc873b0c-8ec1-4c01-a08c-70921db3ba57"
      },
      "outputs": [
        {
          "output_type": "stream",
          "name": "stdout",
          "text": [
            "Total random numbers generated: 1000\n",
            "Numbers below CR (0.9): 898 (89.80%)\n",
            "Numbers at or above CR (0.9): 102 (10.20%)\n"
          ]
        }
      ],
      "source": [
        "import numpy as np\n",
        "\n",
        "def simulate_crossover(N, CR):\n",
        "    # Generate N random numbers between 0 and 1\n",
        "    random_values = np.random.rand(N)\n",
        "\n",
        "    # Count numbers below CR (donor vector components)\n",
        "    below_CR = np.sum(random_values < CR)\n",
        "\n",
        "    # Count numbers at or above CR (retain target vector components)\n",
        "    above_CR = np.sum(random_values >= CR)\n",
        "\n",
        "    # Calculate percentages\n",
        "    below_percentage = (below_CR / N) * 100\n",
        "    above_percentage = (above_CR / N) * 100\n",
        "\n",
        "    # Print the results\n",
        "    print(f\"Total random numbers generated: {N}\")\n",
        "    print(f\"Numbers below CR ({CR}): {below_CR} ({below_percentage:.2f}%)\")\n",
        "    print(f\"Numbers at or above CR ({CR}): {above_CR} ({above_percentage:.2f}%)\")\n",
        "\n",
        "# Example usage:\n",
        "N = 1000   # Total number of random numbers\n",
        "CR = 0.9   # Crossover rate value\n",
        "simulate_crossover(N, CR)\n"
      ]
    }
  ]
}